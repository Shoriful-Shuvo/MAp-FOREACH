{
  "nbformat": 4,
  "nbformat_minor": 0,
  "metadata": {
    "colab": {
      "provenance": [],
      "authorship_tag": "ABX9TyOD+syLtqVabJ8QHWvpduTM",
      "include_colab_link": true
    },
    "kernelspec": {
      "name": "python3",
      "display_name": "Python 3"
    },
    "language_info": {
      "name": "python"
    }
  },
  "cells": [
    {
      "cell_type": "markdown",
      "metadata": {
        "id": "view-in-github",
        "colab_type": "text"
      },
      "source": [
        "<a href=\"https://colab.research.google.com/github/Shoriful-Shuvo/MAp-FOREACH/blob/main/list%20manupulation.ipynb\" target=\"_parent\"><img src=\"https://colab.research.google.com/assets/colab-badge.svg\" alt=\"Open In Colab\"/></a>"
      ]
    },
    {
      "cell_type": "code",
      "execution_count": null,
      "metadata": {
        "colab": {
          "base_uri": "https://localhost:8080/"
        },
        "id": "4mrtbZP7d3WR",
        "outputId": "bd24cbc6-3720-49c4-b6be-fc4d9336f4b1"
      },
      "outputs": [
        {
          "output_type": "stream",
          "name": "stdout",
          "text": [
            "Price List:\n",
            "-----------\n",
            "Item no  Item name  Price\n",
            "Enter the Name of the item Banana\n",
            "01       Banana       5.0 unit  \n",
            "02       Mango       20.0 kg    \n",
            "03       Apple       15.0 kg    \n",
            "04       Papaya      25.0 unit  \n",
            "05       Guava       15.0 kg    \n",
            "\n",
            "\n",
            "5.0\n"
          ]
        }
      ],
      "source": [
        "Price_list = [\"01\",\"Banana\", 5.00, \"unit\", \"02\", \"Mango\", 20.00, \"kg\", \"03\", \"Apple\", 15.00, \"kg\", \"04\",\n",
        "              \"Papaya\", 25.00, \"unit\", \"05\", \"Guava\", 15.00, \"kg\"]\n",
        "print(\"Price List:\")\n",
        "print(\"-----------\")\n",
        "print(\"Item no  Item name  Price\")\n",
        "Item = input(\"Enter the Name of the item \")\n",
        "for i in range(0, 20, 4):\n",
        "  print(\"{0:7}  {1:9}  {2:5} {3:5} \".format(Price_list[i], Price_list[i+1], Price_list[i+2],Price_list[i+3]))\n",
        "print(\"\\n\")\n",
        "i=0\n",
        "while i < len(Price_list):\n",
        "    if Price_list[i] == Item:\n",
        "        Index = i\n",
        "    i = i + 1\n",
        "Price_index = Index + 1\n",
        "Price = Price_list[Price_index]\n",
        "print(Price)"
      ]
    }
  ]
}